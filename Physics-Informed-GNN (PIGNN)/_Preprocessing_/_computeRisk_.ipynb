{
 "cells": [
  {
   "cell_type": "code",
   "execution_count": 1,
   "id": "52873f33-8bb7-4010-be27-906e5c285d0b",
   "metadata": {},
   "outputs": [],
   "source": [
    "import networkx as nx\n",
    "import pickle\n",
    "import torch\n",
    "import numpy as np\n",
    "import warnings\n",
    "warnings.filterwarnings('ignore') "
   ]
  },
  {
   "cell_type": "code",
   "execution_count": 2,
   "id": "da4ae7c7-8f5a-4132-b809-402fe9f316a2",
   "metadata": {},
   "outputs": [
    {
     "name": "stdout",
     "output_type": "stream",
     "text": [
      "[+] Risk for full path: 7.33 %\n"
     ]
    }
   ],
   "source": [
    "def compute_risk_fullpath(pt_file: str, pickle_file: str) -> float:\n",
    "    \"\"\"\n",
    "    Load tensor output from path prediction model\n",
    "    \"\"\"\n",
    "    y_pred = torch.load(pt_file).numpy()\n",
    "\n",
    "    \"\"\"\n",
    "    Load graph from .pickle file\n",
    "    \"\"\"\n",
    "    with open(pickle_file, \"rb\") as f:\n",
    "        G = pickle.load(f)\n",
    "\n",
    "    \"\"\"\n",
    "    Sanity check for graph order\n",
    "    \"\"\"\n",
    "    nodes = sorted(G.nodes())\n",
    "    num_nodes = len(nodes)\n",
    "    if y_pred.shape != (num_nodes, num_nodes):\n",
    "        raise ValueError(\"Mismatch between adjacency matrix size and graph size!\")\n",
    "\n",
    "    \"\"\"\n",
    "    Compute reverse pagerank\n",
    "    \"\"\"\n",
    "    G = G.reverse()\n",
    "    rpr = nx.pagerank(G)\n",
    "\n",
    "    \"\"\"\n",
    "    Compute risk(G)\n",
    "    \"\"\"\n",
    "    risk = 0.0\n",
    "    for i, node in enumerate(nodes):\n",
    "        avg_prob = np.mean(y_pred[i])  \n",
    "        risk += avg_prob * rpr.get(node, 0)\n",
    "        \n",
    "    return risk*100\n",
    "\n",
    "\n",
    "\"\"\"\n",
    "Compute risk for sample graph\n",
    "\"\"\"\n",
    "\n",
    "Y = \"Dataset/DemoRisk/Y_pred.pt\"\n",
    "X = \"Dataset/DemoRisk/graph_0I9E8nlQ.pickle\"\n",
    "risk = compute_risk_fullpath(Y, X)\n",
    "print(f\"[+] Risk for full path: {risk:.2f} %\")"
   ]
  },
  {
   "cell_type": "code",
   "execution_count": 3,
   "id": "8a906648-9616-4898-b0f3-7a2571c546eb",
   "metadata": {},
   "outputs": [
    {
     "name": "stdout",
     "output_type": "stream",
     "text": [
      "[+] Risk for start node: 3.55 %\n"
     ]
    }
   ],
   "source": [
    "def compute_weighted_risk(adj_pt_file: str, graph_pickle: str, weights_pt_file: str) -> float:\n",
    "    \n",
    "    \"\"\"\n",
    "    Compute the weighted risk as:\n",
    "    sum(weight[i] * compute_risk_fullpath[i])\n",
    "    \"\"\"\n",
    "    weights = torch.load(weights_pt_file).numpy()\n",
    "\n",
    "    \"\"\"\n",
    "    Load graph from .pickle file\n",
    "    \"\"\"\n",
    "    with open(graph_pickle, \"rb\") as f:\n",
    "        G = pickle.load(f)\n",
    "\n",
    "    \"\"\"\n",
    "    Sanity check for graph order\n",
    "    \"\"\"\n",
    "    nodes = sorted(G.nodes())\n",
    "    num_nodes = len(nodes)\n",
    "    if weights.shape != (num_nodes,):\n",
    "        raise ValueError(\"Mismatch between weight tensor size and number of nodes in graph!\")\n",
    "\n",
    "    \"\"\"\n",
    "    Compute per-node risk using compute_risk_fullpath\n",
    "    \"\"\"\n",
    "    risk_per_node = compute_risk_fullpath(adj_pt_file, graph_pickle)\n",
    "\n",
    "    \"\"\"\n",
    "    Compute final weighted risk sum\n",
    "    \"\"\"\n",
    "    weighted_risk = np.sum(weights * risk_per_node)\n",
    "    return (weighted_risk/num_nodes)\n",
    "\n",
    "\n",
    "\"\"\"\n",
    "Compute weighted risk for sample graph\n",
    "\"\"\"\n",
    "\n",
    "Y = \"Dataset/DemoRisk/Y_pred.pt\"  \n",
    "X = \"Dataset/DemoRisk/graph_0I9E8nlQ.pickle\"\n",
    "W = \"Dataset/DemoRisk/f_start.pt\" \n",
    "\n",
    "weighted_risk = compute_weighted_risk(Y, X, W)\n",
    "print(f\"[+] Risk for start node: {weighted_risk:.2f} %\")"
   ]
  },
  {
   "cell_type": "code",
   "execution_count": 4,
   "id": "be77d149-9390-4312-9e3c-3ec138062984",
   "metadata": {},
   "outputs": [
    {
     "name": "stdout",
     "output_type": "stream",
     "text": [
      "[+] Risk for end node: 3.66 %\n"
     ]
    }
   ],
   "source": [
    "def compute_weighted_risk(adj_pt_file: str, graph_pickle: str, weights_pt_file: str) -> float:\n",
    "    \n",
    "    \"\"\"\n",
    "    Compute the weighted risk as:\n",
    "    sum(weight[i] * compute_risk_fullpath[i])\n",
    "    \"\"\"\n",
    "    weights = torch.load(weights_pt_file).numpy()\n",
    "\n",
    "    \"\"\"\n",
    "    Load graph from .pickle file\n",
    "    \"\"\"\n",
    "    with open(graph_pickle, \"rb\") as f:\n",
    "        G = pickle.load(f)\n",
    "\n",
    "    \"\"\"\n",
    "    Sanity check for graph order\n",
    "    \"\"\"\n",
    "    nodes = sorted(G.nodes())\n",
    "    num_nodes = len(nodes)\n",
    "    if weights.shape != (num_nodes,):\n",
    "        raise ValueError(\"Mismatch between weight tensor size and number of nodes in graph!\")\n",
    "\n",
    "    \"\"\"\n",
    "    Compute per-node risk using compute_risk_fullpath\n",
    "    \"\"\"\n",
    "    risk_per_node = compute_risk_fullpath(adj_pt_file, graph_pickle)\n",
    "\n",
    "    \"\"\"\n",
    "    Compute final weighted risk sum\n",
    "    \"\"\"\n",
    "    weighted_risk = np.sum(weights * risk_per_node)\n",
    "    return (weighted_risk/num_nodes)\n",
    "\n",
    "\n",
    "\"\"\"\n",
    "Compute weighted risk for sample graph\n",
    "\"\"\"\n",
    "\n",
    "Y = \"Dataset/DemoRisk/Y_pred.pt\"  \n",
    "X = \"Dataset/DemoRisk/graph_0I9E8nlQ.pickle\"\n",
    "W = \"Dataset/DemoRisk/f_end.pt\" \n",
    "\n",
    "weighted_risk = compute_weighted_risk(Y, X, W)\n",
    "print(f\"[+] Risk for end node: {weighted_risk:.2f} %\")"
   ]
  }
 ],
 "metadata": {
  "kernelspec": {
   "display_name": "Python 3 (ipykernel)",
   "language": "python",
   "name": "python3"
  },
  "language_info": {
   "codemirror_mode": {
    "name": "ipython",
    "version": 3
   },
   "file_extension": ".py",
   "mimetype": "text/x-python",
   "name": "python",
   "nbconvert_exporter": "python",
   "pygments_lexer": "ipython3",
   "version": "3.11.1"
  }
 },
 "nbformat": 4,
 "nbformat_minor": 5
}
